{
 "cells": [
  {
   "cell_type": "code",
   "execution_count": 1,
   "id": "4eb165dc-b123-406a-b090-cbe306efc277",
   "metadata": {},
   "outputs": [
    {
     "name": "stdout",
     "output_type": "stream",
     "text": [
      "Left camera: [ 848x800  p[422.208 403.578]  f[285.949 285.99]  Kannala Brandt4 [-0.00449127 0.0374638 -0.0352701 0.0054871 0] ]\n",
      "Right camera: [ 848x800  p[426.173 403.557]  f[285.737 285.935]  Kannala Brandt4 [-0.00782555 0.0477229 -0.0446198 0.00828991 0] ]\n"
     ]
    },
    {
     "data": {
      "application/vnd.jupyter.widget-view+json": {
       "model_id": "98172bb836a446198b15f15458114175",
       "version_major": 2,
       "version_minor": 0
      },
      "text/plain": [
       "Image(value=b'')"
      ]
     },
     "metadata": {},
     "output_type": "display_data"
    }
   ],
   "source": [
    "#!/usr/bin/python\n",
    "# -*- coding: utf-8 -*-\n",
    "## License: Apache 2.0. See LICENSE file in root directory.\n",
    "## Copyright(c) 2019 Intel Corporation. All Rights Reserved.\n",
    "# Python 2/3 compatibility\n",
    "from __future__ import print_function\n",
    "\n",
    "# First import the library\n",
    "import pyrealsense2 as rs\n",
    "\n",
    "# Import OpenCV and numpy\n",
    "import cv2\n",
    "import numpy as np\n",
    "from math import tan, pi\n",
    "import ipywidgets\n",
    "import time\n",
    "wid = ipywidgets.Image()\n",
    "\n",
    "# Set up a mutex to share data between threads 设置互斥体以在线程之间共享数据\n",
    "from threading import Lock\n",
    "frame_mutex = Lock()\n",
    "frame_data = {\"left\"  : None,\n",
    "              \"right\" : None,\n",
    "              \"timestamp_ms\" : None\n",
    "              }\n",
    "\n",
    "\"\"\"\n",
    "这个回调是在单独的线程上调用的，\n",
    "所以我们必须使用互斥锁来确保数据正确同步。\n",
    "我们还应该注意不要在这个线程上做太多工作，\n",
    "以避免回调队列中的数据备份。\n",
    "\"\"\"\n",
    "def callback(frame):\n",
    "    global frame_data\n",
    "    if frame.is_frameset():\n",
    "        frameset = frame.as_frameset()\n",
    "        f1 = frameset.get_fisheye_frame(1).as_video_frame()\n",
    "        f2 = frameset.get_fisheye_frame(2).as_video_frame()\n",
    "        left_data = np.asanyarray(f1.get_data())\n",
    "        right_data = np.asanyarray(f2.get_data())\n",
    "        ts = frameset.get_timestamp()\n",
    "        frame_mutex.acquire()\n",
    "        frame_data[\"left\"] = left_data\n",
    "        frame_data[\"right\"] = right_data\n",
    "        frame_data[\"timestamp_ms\"] = ts\n",
    "        frame_mutex.release()\n",
    "\n",
    "# 声明RealSense管道，封装实际设备和传感器\n",
    "pipe = rs.pipeline()\n",
    "\n",
    "# 构建配置对象并流式传输所有内容\n",
    "cfg = rs.config()\n",
    "\n",
    "# 使用我们的回调开始流式传输\n",
    "pipe.start(cfg, callback)\n",
    "\n",
    "try:\n",
    "    WINDOW_TITLE = 'Realsense'\n",
    "    cv2.namedWindow(WINDOW_TITLE, cv2.WINDOW_NORMAL)\n",
    "   \n",
    "    # 检索两个相机的流和固有属性\n",
    "    profiles = pipe.get_active_profile()\n",
    "    streams = {\"left\"  : profiles.get_stream(rs.stream.fisheye, 1).as_video_stream_profile(),\n",
    "               \"right\" : profiles.get_stream(rs.stream.fisheye, 2).as_video_stream_profile()}\n",
    "    intrinsics = {\"left\"  : streams[\"left\"].get_intrinsics(),\n",
    "                  \"right\" : streams[\"right\"].get_intrinsics()}\n",
    "\n",
    "    # 打印有关两个摄像头的信息\n",
    "    print(\"Left camera:\",  intrinsics[\"left\"])\n",
    "    print(\"Right camera:\", intrinsics[\"right\"])\n",
    "    frame_width=848\n",
    "    frame_height=800\n",
    "    # 创建保存视频的对象，设置编码格式，帧率，图像的宽高等\n",
    "    color_fisheye_image_right_out = cv2.VideoWriter('fisheye_image/color_fisheye_image_right_out.avi', cv2.VideoWriter_fourcc('M', 'J', 'P', 'G'), 10, (frame_width, frame_height))  # 保存视频\n",
    "    color_fisheye_image_lift_out = cv2.VideoWriter('fisheye_image/color_fisheye_image_lift_out.avi', cv2.VideoWriter_fourcc('M', 'J', 'P', 'G'), 10, (frame_width, frame_height))  # 保存视频\n",
    "    color_fisheye_image_all_out =  cv2.VideoWriter('fisheye_image/color_fisheye_image_all_out.avi', cv2.VideoWriter_fourcc('M', 'J', 'P', 'G'), 10, (frame_width*2, frame_height))  # 保存视频\n",
    "\n",
    "    # 设置OpenCV窗口以可视化结果\n",
    "    display(wid)\n",
    "\n",
    "    T1 = time.time()\n",
    "    while True:\n",
    "        # 检查摄像头是否已获取任何帧\n",
    "        frame_mutex.acquire()\n",
    "        valid = frame_data[\"timestamp_ms\"] is not None\n",
    "        frame_mutex.release()\n",
    "\n",
    "        # 如果帧已准备好处理\n",
    "        if valid:\n",
    "            \n",
    "            color_fisheye_image_left = cv2.cvtColor(frame_data[\"left\"],cv2.COLOR_GRAY2RGB)\n",
    "            color_fisheye_image_right = cv2.cvtColor(frame_data[\"right\"],cv2.COLOR_GRAY2RGB)\n",
    "             # 将每一帧图像写入到输出文件中\n",
    "            color_fisheye_image_right_out.write(color_fisheye_image_right)  #视频写入\n",
    "            color_fisheye_image_lift_out.write(color_fisheye_image_left)\n",
    "            color_fisheye_image_all_out.write(np.hstack((color_fisheye_image_left,color_fisheye_image_right)))\n",
    "            \n",
    "            cv2.imshow(WINDOW_TITLE, np.hstack((color_fisheye_image_left,color_fisheye_image_right)))\n",
    "        key = cv2.waitKey(1)\n",
    "        if key == ord('q') or cv2.getWindowProperty(WINDOW_TITLE, cv2.WND_PROP_VISIBLE) < 1:\n",
    "            color_fisheye_image_right_out.release()  #资源释放\n",
    "            color_fisheye_image_lift_out.release()\n",
    "            color_fisheye_image_all_out.release()\n",
    "            cv2.destroyAllWindows()\n",
    "            break\n",
    "          \n",
    "finally:\n",
    "    \n",
    "    pipe.stop()\n"
   ]
  },
  {
   "cell_type": "code",
   "execution_count": null,
   "id": "b391d95e-9b25-4440-b007-78cace7fc9bc",
   "metadata": {},
   "outputs": [],
   "source": []
  }
 ],
 "metadata": {
  "kernelspec": {
   "display_name": "base",
   "language": "python",
   "name": "python3"
  },
  "language_info": {
   "codemirror_mode": {
    "name": "ipython",
    "version": 3
   },
   "file_extension": ".py",
   "mimetype": "text/x-python",
   "name": "python",
   "nbconvert_exporter": "python",
   "pygments_lexer": "ipython3",
   "version": "3.9.15"
  },
  "vscode": {
   "interpreter": {
    "hash": "19d1d53a962d236aa061289c2ac16dc8e6d9648c89fe79f459ae9a3493bc67b4"
   }
  }
 },
 "nbformat": 4,
 "nbformat_minor": 5
}
