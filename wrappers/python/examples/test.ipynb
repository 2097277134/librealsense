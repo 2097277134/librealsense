{
 "cells": [
  {
   "cell_type": "code",
   "execution_count": 5,
   "metadata": {},
   "outputs": [
    {
     "ename": "RuntimeError",
     "evalue": "null pointer passed for argument \"frame_ref\"",
     "output_type": "error",
     "traceback": [
      "\u001b[1;31m---------------------------------------------------------------------------\u001b[0m",
      "\u001b[1;31mRuntimeError\u001b[0m                              Traceback (most recent call last)",
      "Cell \u001b[1;32mIn [5], line 43\u001b[0m\n\u001b[0;32m     41\u001b[0m frames \u001b[39m=\u001b[39m pipe\u001b[39m.\u001b[39mwait_for_frames()\n\u001b[0;32m     42\u001b[0m f1\u001b[39m=\u001b[39mframes\u001b[39m.\u001b[39mget_fisheye_frame(\u001b[39m1\u001b[39m)\u001b[39m.\u001b[39mas_video_frame()\n\u001b[1;32m---> 43\u001b[0m img \u001b[39m=\u001b[39m np\u001b[39m.\u001b[39masanyarray((f1)\u001b[39m.\u001b[39;49mget_data())\n\u001b[0;32m     44\u001b[0m \u001b[39mprint\u001b[39m(img)\n\u001b[0;32m     45\u001b[0m cv2\u001b[39m.\u001b[39mimshow(img)\n",
      "\u001b[1;31mRuntimeError\u001b[0m: null pointer passed for argument \"frame_ref\""
     ]
    }
   ],
   "source": [
    "import pyrealsense2 as rs\n",
    "import cv2\n",
    "import numpy as np\n",
    "\n",
    "\n",
    "# Set up a mutex to share data between threads 设置互斥体以在线程之间共享数据\n",
    "from threading import Lock\n",
    "frame_mutex = Lock()\n",
    "frame_data = {\"left\"  : None,\n",
    "              \"right\" : None,\n",
    "              \"timestamp_ms\" : None\n",
    "              }\n",
    "\n",
    "def callback(frame):\n",
    "    global frame_data\n",
    "    if frame.is_frameset():\n",
    "        frameset = frame.as_frameset()\n",
    "        f1 = frameset.get_fisheye_frame(1).as_video_frame()\n",
    "        f2 = frameset.get_fisheye_frame(2).as_video_frame()\n",
    "        left_data = np.asanyarray(f1.get_data())\n",
    "        right_data = np.asanyarray(f2.get_data())\n",
    "        ts = frameset.get_timestamp()\n",
    "        frame_mutex.acquire()\n",
    "        frame_data[\"left\"] = left_data\n",
    "        frame_data[\"right\"] = right_data\n",
    "        frame_data[\"timestamp_ms\"] = ts\n",
    "        frame_mutex.release()\n",
    "pipe = rs.pipeline()\n",
    "\n",
    "# Build config object and request pose data\n",
    "cfg = rs.config()\n",
    "cfg.enable_stream(rs.stream.pose)\n",
    "\n",
    "# Start streaming with requested config\n",
    "\n",
    "pipe.start(cfg, callback)\n",
    "camera = cv2.VideoCapture(1)\n",
    "while True:\n",
    "    # reg, img = camera.read()\n",
    "    # cv2.imshow('Camera', img)\n",
    "    # Wait for the next set of frames from the camera\n",
    "    frames = pipe.wait_for_frames()\n",
    "    f1=frames.get_fisheye_frame(1).as_video_frame()\n",
    "    img = np.asanyarray((f1).get_data())\n",
    "    print(img)\n",
    "    cv2.imshow(img)\n",
    "    key = cv2.waitKey(1)\n",
    "    if key == ord('q'):\n",
    "        break\n",
    "\n",
    "pipe.stop() "
   ]
  }
 ],
 "metadata": {
  "kernelspec": {
   "display_name": "base",
   "language": "python",
   "name": "python3"
  },
  "language_info": {
   "codemirror_mode": {
    "name": "ipython",
    "version": 3
   },
   "file_extension": ".py",
   "mimetype": "text/x-python",
   "name": "python",
   "nbconvert_exporter": "python",
   "pygments_lexer": "ipython3",
   "version": "3.9.15 (main, Nov  4 2022, 16:35:55) [MSC v.1916 64 bit (AMD64)]"
  },
  "orig_nbformat": 4,
  "vscode": {
   "interpreter": {
    "hash": "19d1d53a962d236aa061289c2ac16dc8e6d9648c89fe79f459ae9a3493bc67b4"
   }
  }
 },
 "nbformat": 4,
 "nbformat_minor": 2
}
